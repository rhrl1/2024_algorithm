{
 "cells": [
  {
   "cell_type": "code",
   "execution_count": 11,
   "id": "7de07923",
   "metadata": {},
   "outputs": [
    {
     "name": "stdout",
     "output_type": "stream",
     "text": [
      "Iterative Fibonacci Result: [0, 1, 1, 2, 3, 5, 8, 13, 21, 34, 55, 89, 144, 233, 377, 610]\n",
      "Iterative Time: 5.8599999647412915e-05\n",
      "Recursive Fibonacci Result: [0, 1, 1, 2, 3, 5, 8, 13, 21, 34, 55, 89, 144, 233, 377, 610]\n",
      "Recursive Time: 0.0005272999997032457\n"
     ]
    }
   ],
   "source": [
    "import timeit\n",
    "\n",
    "# 반복문을 사용한 피보나치 수열 계산 함수\n",
    "def fibonacci_iterative(n):\n",
    "    a, b = 0, 1\n",
    "    results = []\n",
    "    for _ in range(n):\n",
    "        results.append(a)\n",
    "        a, b = b, a + b\n",
    "    return results\n",
    "\n",
    "# 재귀적 방법으로 피보나치 수열 계산\n",
    "def fibonacci_recursive(i):\n",
    "    if i <= 1:\n",
    "        return i\n",
    "    else:\n",
    "        return fibonacci_recursive(i - 1) + fibonacci_recursive(i - 2)\n",
    "\n",
    "# 피보나치 수열의 항 개수 설정\n",
    "n = 16\n",
    "\n",
    "# 반복문 방법의 실행 시간 측정\n",
    "start_time = timeit.default_timer()\n",
    "iterative_result = fibonacci_iterative(n)\n",
    "iterative_time = timeit.default_timer() - start_time\n",
    "\n",
    "# 재귀적 방법의 실행 시간 측정\n",
    "start_time = timeit.default_timer()\n",
    "recursive_result = [fibonacci_recursive(i) for i in range(n)]\n",
    "recursive_time = timeit.default_timer() - start_time\n",
    "\n",
    "# 결과 출력\n",
    "print(\"Iterative Fibonacci Result:\", iterative_result)\n",
    "print(\"Iterative Time:\", iterative_time)\n",
    "print(\"Recursive Fibonacci Result:\", recursive_result)\n",
    "print(\"Recursive Time:\", recursive_time)\n"
   ]
  },
  {
   "cell_type": "code",
   "execution_count": null,
   "id": "bbac767a",
   "metadata": {},
   "outputs": [],
   "source": [
    "void Hanoi(int n, char from, char to, char by)\n",
    "{\n",
    "    if (n==1)\n",
    "      Console.WriteLine(\"Move : {0} -> {1}\", from, to);\n",
    "    else\n",
    "    {\n",
    "        Hanoi(n-1, from, by, to);\n",
    "        Console.WriteLine(\"Move : {0} -> {1}\", from, to);\n",
    "        Hanoi(n-1, by, to, from);\n",
    "    }\n",
    "}\n"
   ]
  },
  {
   "cell_type": "code",
   "execution_count": 12,
   "id": "32bc3e52",
   "metadata": {},
   "outputs": [
    {
     "name": "stdout",
     "output_type": "stream",
     "text": [
      "Move: a -> b\n",
      "Move: a -> c\n",
      "Move: b -> c\n",
      "Move: a -> b\n",
      "Move: c -> a\n",
      "Move: c -> b\n",
      "Move: a -> b\n",
      "Move: a -> c\n",
      "Move: b -> c\n",
      "Move: b -> a\n",
      "Move: c -> a\n",
      "Move: b -> c\n",
      "Move: a -> b\n",
      "Move: a -> c\n",
      "Move: b -> c\n"
     ]
    }
   ],
   "source": [
    "def hanoi(n, from_pole, to_pole, by_pole):\n",
    "    if n == 1:\n",
    "        print(f\"Move: {from_pole} -> {to_pole}\")\n",
    "    else:\n",
    "        hanoi(n - 1, from_pole, by_pole, to_pole)\n",
    "        print(f\"Move: {from_pole} -> {to_pole}\")\n",
    "        hanoi(n - 1, by_pole, to_pole, from_pole)\n",
    "\n",
    "# 4개의 원판을 a에서 b를 이용하여 c로 이동하는 방법\n",
    "hanoi(4, 'a', 'c', 'b')\n"
   ]
  }
 ],
 "metadata": {
  "kernelspec": {
   "display_name": "Python 3 (ipykernel)",
   "language": "python",
   "name": "python3"
  },
  "language_info": {
   "codemirror_mode": {
    "name": "ipython",
    "version": 3
   },
   "file_extension": ".py",
   "mimetype": "text/x-python",
   "name": "python",
   "nbconvert_exporter": "python",
   "pygments_lexer": "ipython3",
   "version": "3.11.3"
  }
 },
 "nbformat": 4,
 "nbformat_minor": 5
}
