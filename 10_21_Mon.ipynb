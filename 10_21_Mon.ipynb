{
 "cells": [
  {
   "cell_type": "code",
   "execution_count": 33,
   "id": "31f236b0",
   "metadata": {
    "scrolled": true
   },
   "outputs": [
    {
     "name": "stdout",
     "output_type": "stream",
     "text": [
      "1: 1\n",
      "2: 1\n",
      "3: 2\n",
      "4: 3\n",
      "5: 5\n",
      "6: 8\n",
      "7: 13\n",
      "8: 21\n",
      "9: 34\n",
      "10: 55\n",
      "11: 89\n",
      "12: 144\n",
      "13: 233\n",
      "14: 377\n",
      "15: 610\n",
      "16: 987\n",
      "17: 1597\n",
      "18: 2584\n",
      "19: 4181\n",
      "20: 6765\n",
      "21: 10946\n",
      "22: 17711\n",
      "23: 28657\n",
      "24: 46368\n",
      "25: 75025\n",
      "26: 121393\n",
      "27: 196418\n",
      "28: 317811\n",
      "29: 514229\n",
      "30: 832040\n",
      "31: 1346269\n",
      "32: 2178309\n",
      "33: 3524578\n",
      "34: 5702887\n",
      "35: 9227465\n",
      "36: 14930352\n",
      "37: 24157817\n",
      "38: 39088169\n",
      "39: 63245986\n",
      "40: 102334155\n",
      "41: 165580141\n",
      "42: 267914296\n",
      "43: 433494437\n",
      "44: 701408733\n",
      "45: 1134903170\n"
     ]
    }
   ],
   "source": [
    "# 개선된 피보나치 수열 dp\n",
    "\n",
    "d = [0]*101 # 메모제이션을 위한 리스트 초기화\n",
    "\n",
    "def dp(x):\n",
    "    if x == 1: return 1\n",
    "    if x == 2: return 1\n",
    "    if d[x] != 0: # 이미 계산되었다면\n",
    "        return d[x]\n",
    "    d[x] = dp(x-1) +dp(x-2)\n",
    "    return d[x]\n",
    "\n",
    "#print(dp(45))\n",
    "for i in range(1, 46):\n",
    "    print(f\"{i}: {dp(i)}\")"
   ]
  },
  {
   "cell_type": "code",
   "execution_count": 35,
   "id": "5186aa5d",
   "metadata": {
    "scrolled": true
   },
   "outputs": [
    {
     "name": "stdout",
     "output_type": "stream",
     "text": [
      "1: 1\n",
      "2: 1\n",
      "3: 2\n",
      "4: 3\n",
      "5: 5\n",
      "6: 8\n",
      "7: 13\n",
      "8: 21\n",
      "9: 34\n",
      "10: 55\n",
      "11: 89\n",
      "12: 144\n",
      "13: 233\n",
      "14: 377\n",
      "15: 610\n",
      "16: 987\n",
      "17: 1597\n",
      "18: 2584\n",
      "19: 4181\n",
      "20: 6765\n",
      "21: 10946\n",
      "22: 17711\n",
      "23: 28657\n",
      "24: 46368\n",
      "25: 75025\n",
      "26: 121393\n",
      "27: 196418\n",
      "28: 317811\n",
      "29: 514229\n",
      "30: 832040\n",
      "31: 1346269\n",
      "32: 2178309\n",
      "33: 3524578\n",
      "34: 5702887\n"
     ]
    }
   ],
   "source": [
    "#고냥 피보나치\n",
    "def fibo(n):\n",
    "    if n == 1 or n == 2:\n",
    "        return 1\n",
    "    return fibo(n - 1) + fibo(n - 2)\n",
    "\n",
    "#print(fibo(45))\n",
    "for i in range(1, 35):\n",
    "    print(f\"{i}: {fibo(i)}\")"
   ]
  },
  {
   "cell_type": "markdown",
   "id": "660f8a4a",
   "metadata": {},
   "source": [
    "메모제이션을 위한 리스트 초기화는 재귀 호출에서 이미 계산된 값을 저장하기 위해 필요함\n",
    "d 배열은 피보나치 수를 계산할 대 각 항의 값을 저장하는 역할 \n",
    "1. 중복계산 방지\n",
    "2. 성능향상 \n",
    "    O(n^2) -> O(n)\n",
    "3. 편리한 접근 \n",
    "    리스트 사용시 인덱스를 통해 빠르게 저장된 값에 접근\n",
    "    "
   ]
  },
  {
   "cell_type": "code",
   "execution_count": 36,
   "id": "f6ab44c4",
   "metadata": {},
   "outputs": [
    {
     "name": "stdout",
     "output_type": "stream",
     "text": [
      "개선된 피보나치 수열 (36번째 항): 14930352\n",
      "개선된 피보나치 수열 실행 시간: 0.00002초\n",
      "피보나치 (36번째 항): 14930352\n",
      "피보나치 수열 실행 시간: 1.66453초\n"
     ]
    }
   ],
   "source": [
    "import timeit\n",
    "\n",
    "# 개선된 피보나치 수열 (메모이제이션)\n",
    "d = [0] * 101\n",
    "\n",
    "def memoized_fibonacci(x):\n",
    "    if x == 1 or x == 2:\n",
    "        return 1\n",
    "    if d[x] != 0:  # 이미 계산되었다면\n",
    "        return d[x]\n",
    "    d[x] = memoized_fibonacci(x - 1) + memoized_fibonacci(x - 2)\n",
    "    return d[x]\n",
    "\n",
    "# 개선되지 않은 피보나치 수열 (재귀)\n",
    "def naive_fibonacci(n):\n",
    "    if n == 1 or n == 2:\n",
    "        return 1\n",
    "    return naive_fibonacci(n - 1) + naive_fibonacci(n - 2)\n",
    "\n",
    "# 계산할 항 수\n",
    "n = 36\n",
    "\n",
    "# 개선된 피보나치 수열 실행 시간 측정\n",
    "memoized_time = timeit.timeit('memoized_fibonacci(n)', globals=globals(), number=100)\n",
    "print(f\"개선된 피보나치 수열 ({n}번째 항): {memoized_fibonacci(n)}\")\n",
    "print(f\"개선된 피보나치 수열 실행 시간: {memoized_time:.5f}초\")\n",
    "\n",
    "# 그냥 재귀적 피보나치 수열 실행 시간 측정\n",
    "naive_time = timeit.timeit('naive_fibonacci(n)', globals=globals(), number=1)\n",
    "print(f\"피보나치 ({n}번째 항): {naive_fibonacci(n)}\")\n",
    "print(f\"피보나치 수열 실행 시간: {naive_time:.5f}초\")\n"
   ]
  }
 ],
 "metadata": {
  "kernelspec": {
   "display_name": "Python 3 (ipykernel)",
   "language": "python",
   "name": "python3"
  },
  "language_info": {
   "codemirror_mode": {
    "name": "ipython",
    "version": 3
   },
   "file_extension": ".py",
   "mimetype": "text/x-python",
   "name": "python",
   "nbconvert_exporter": "python",
   "pygments_lexer": "ipython3",
   "version": "3.11.3"
  }
 },
 "nbformat": 4,
 "nbformat_minor": 5
}
