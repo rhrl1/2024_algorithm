{
 "cells": [
  {
   "cell_type": "code",
   "execution_count": 5,
   "id": "9590f7e1",
   "metadata": {},
   "outputs": [
    {
     "name": "stdout",
     "output_type": "stream",
     "text": [
      "GCD 6\n"
     ]
    }
   ],
   "source": [
    "#유클리드 호제법\n",
    "def euclid(a, b):\n",
    "    if b == 0:\n",
    "        return a\n",
    "    else:\n",
    "        return euclid(b, a % b)\n",
    "\n",
    "a = 24\n",
    "b = 6\n",
    "result = euclid(a, b)\n",
    "print(f\"GCD {result}\")"
   ]
  },
  {
   "cell_type": "markdown",
   "id": "2f10b7fe",
   "metadata": {},
   "source": [
    "1. 1679, 874 = 23\n",
    "2. 3762, 4047 = 57\n",
    "3. 6080, 3876 = 76"
   ]
  },
  {
   "cell_type": "code",
   "execution_count": 8,
   "id": "5f3c50e9",
   "metadata": {},
   "outputs": [
    {
     "name": "stdout",
     "output_type": "stream",
     "text": [
      "재귀적 방법 50 : 30414093201713378043612608166064768844377641568960512000000000000\n",
      "시간 :  0.00000830 초\n",
      "반복문 방법 50 : 1275\n",
      "시간 :  0.00002110 초\n"
     ]
    }
   ],
   "source": [
    "import timeit # 팩토리얼 계산\n",
    "\n",
    "#재귀적 방법\n",
    "def factorial_recursive(f):\n",
    "    if f == 0:\n",
    "        return 1\n",
    "    elif f == 1:\n",
    "        return 1\n",
    "    else:\n",
    "        return factorial_recursive(f-1) * f\n",
    "    \n",
    "#반복문 방법d\n",
    "def factorial_iterative(f):\n",
    "    fact = 1\n",
    "    for i in range(2, f + 1):\n",
    "        fact += i\n",
    "    return fact\n",
    "\n",
    "n = 50 # 테스트 숫자\n",
    "\n",
    "# 시간 측정\n",
    "recursive_time = timeit.timeit(lambda : factorial_recursive(n), number = 1)\n",
    "iterative_time = timeit.timeit(lambda : factorial_iterative(n), number = 1)\n",
    "\n",
    "#결과 출력\n",
    "print(f\"재귀적 방법 {n} : {factorial_recursive(n)}\")\n",
    "print(f\"시간 : {recursive_time: .8f} 초\")\n",
    "print(f\"반복문 방법 {n} : {factorial_iterative(n)}\")\n",
    "print(f\"시간 : {iterative_time: .8f} 초\")"
   ]
  }
 ],
 "metadata": {
  "kernelspec": {
   "display_name": "Python 3 (ipykernel)",
   "language": "python",
   "name": "python3"
  },
  "language_info": {
   "codemirror_mode": {
    "name": "ipython",
    "version": 3
   },
   "file_extension": ".py",
   "mimetype": "text/x-python",
   "name": "python",
   "nbconvert_exporter": "python",
   "pygments_lexer": "ipython3",
   "version": "3.11.3"
  }
 },
 "nbformat": 4,
 "nbformat_minor": 5
}
